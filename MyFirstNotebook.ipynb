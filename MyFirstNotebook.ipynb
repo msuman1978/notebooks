{
    "cells": [
        {
            "cell_type": "markdown",
            "metadata": {
                "collapsed": true
            },
            "source": "# My Jupyter Notebook on IBM Watson Studio"
        },
        {
            "cell_type": "markdown",
            "metadata": {},
            "source": "**Suman Mummaneni**\n\nSr. Software Engineer"
        },
        {
            "cell_type": "markdown",
            "metadata": {},
            "source": "*I am interested in data science because helps in understanding the basic concepts of human behaviour*"
        },
        {
            "cell_type": "markdown",
            "metadata": {},
            "source": "### Calucate the value of Pi and display it"
        },
        {
            "cell_type": "code",
            "execution_count": 5,
            "metadata": {},
            "outputs": [
                {
                    "data": {
                        "text/plain": "3.142857142857143"
                    },
                    "execution_count": 5,
                    "metadata": {},
                    "output_type": "execute_result"
                }
            ],
            "source": "p = 22/7\np"
        },
        {
            "cell_type": "markdown",
            "metadata": {},
            "source": ">This is blockquote :)\n\n\nItems to buy\n---------------\n1. Apples\n2. Choclate Pie\n3. Pizza\n\n[Click here -> Google](https://www.google.com)\n\n\nToDo List\n* Learn Python\n* Learn about REST\n* Create a demo"
        },
        {
            "cell_type": "code",
            "execution_count": null,
            "metadata": {},
            "outputs": [],
            "source": ""
        }
    ],
    "metadata": {
        "kernelspec": {
            "display_name": "Python 3.6",
            "language": "python",
            "name": "python3"
        },
        "language_info": {
            "codemirror_mode": {
                "name": "ipython",
                "version": 3
            },
            "file_extension": ".py",
            "mimetype": "text/x-python",
            "name": "python",
            "nbconvert_exporter": "python",
            "pygments_lexer": "ipython3",
            "version": "3.6.9"
        }
    },
    "nbformat": 4,
    "nbformat_minor": 1
}